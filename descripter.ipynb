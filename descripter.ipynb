{
  "nbformat": 4,
  "nbformat_minor": 0,
  "metadata": {
    "colab": {
      "provenance": [],
      "authorship_tag": "ABX9TyOOcv/syGJlakEWMwepCuk2",
      "include_colab_link": true
    },
    "kernelspec": {
      "name": "python3",
      "display_name": "Python 3"
    },
    "language_info": {
      "name": "python"
    }
  },
  "cells": [
    {
      "cell_type": "markdown",
      "metadata": {
        "id": "view-in-github",
        "colab_type": "text"
      },
      "source": [
        "<a href=\"https://colab.research.google.com/github/sai-ramani/chatGPT-internship-task/blob/main/descripter.ipynb\" target=\"_parent\"><img src=\"https://colab.research.google.com/assets/colab-badge.svg\" alt=\"Open In Colab\"/></a>"
      ]
    },
    {
      "cell_type": "code",
      "source": [
        "!pip install docx\n",
        "!pip install docxcompose"
      ],
      "metadata": {
        "colab": {
          "base_uri": "https://localhost:8080/"
        },
        "id": "hNr61CrgO4zj",
        "outputId": "a75d32ce-9fcf-4799-c1c5-4b5f784eca60"
      },
      "execution_count": 2,
      "outputs": [
        {
          "output_type": "stream",
          "name": "stdout",
          "text": [
            "Looking in indexes: https://pypi.org/simple, https://us-python.pkg.dev/colab-wheels/public/simple/\n",
            "Collecting docx\n",
            "  Downloading docx-0.2.4.tar.gz (54 kB)\n",
            "\u001b[2K     \u001b[90m━━━━━━━━━━━━━━━━━━━━━━━━━━━━━━━━━━━━━━━━\u001b[0m \u001b[32m54.9/54.9 kB\u001b[0m \u001b[31m3.1 MB/s\u001b[0m eta \u001b[36m0:00:00\u001b[0m\n",
            "\u001b[?25h  Preparing metadata (setup.py) ... \u001b[?25l\u001b[?25hdone\n",
            "Requirement already satisfied: lxml in /usr/local/lib/python3.10/dist-packages (from docx) (4.9.2)\n",
            "Requirement already satisfied: Pillow>=2.0 in /usr/local/lib/python3.10/dist-packages (from docx) (8.4.0)\n",
            "Building wheels for collected packages: docx\n",
            "  Building wheel for docx (setup.py) ... \u001b[?25l\u001b[?25hdone\n",
            "  Created wheel for docx: filename=docx-0.2.4-py3-none-any.whl size=53897 sha256=821903715666069cdc04055117e97da3bf3b39d246be485998b23c7bb36b5971\n",
            "  Stored in directory: /root/.cache/pip/wheels/81/f5/1d/e09ba2c1907a43a4146d1189ae4733ca1a3bfe27ee39507767\n",
            "Successfully built docx\n",
            "Installing collected packages: docx\n",
            "Successfully installed docx-0.2.4\n",
            "Looking in indexes: https://pypi.org/simple, https://us-python.pkg.dev/colab-wheels/public/simple/\n",
            "Collecting docxcompose\n",
            "  Downloading docxcompose-1.4.0.tar.gz (20 kB)\n",
            "  Preparing metadata (setup.py) ... \u001b[?25l\u001b[?25hdone\n",
            "Requirement already satisfied: lxml in /usr/local/lib/python3.10/dist-packages (from docxcompose) (4.9.2)\n",
            "Collecting python-docx>=0.8.8 (from docxcompose)\n",
            "  Downloading python-docx-0.8.11.tar.gz (5.6 MB)\n",
            "\u001b[2K     \u001b[90m━━━━━━━━━━━━━━━━━━━━━━━━━━━━━━━━━━━━━━━━\u001b[0m \u001b[32m5.6/5.6 MB\u001b[0m \u001b[31m50.5 MB/s\u001b[0m eta \u001b[36m0:00:00\u001b[0m\n",
            "\u001b[?25h  Preparing metadata (setup.py) ... \u001b[?25l\u001b[?25hdone\n",
            "Requirement already satisfied: setuptools in /usr/local/lib/python3.10/dist-packages (from docxcompose) (67.7.2)\n",
            "Requirement already satisfied: six in /usr/local/lib/python3.10/dist-packages (from docxcompose) (1.16.0)\n",
            "Requirement already satisfied: babel in /usr/local/lib/python3.10/dist-packages (from docxcompose) (2.12.1)\n",
            "Building wheels for collected packages: docxcompose, python-docx\n",
            "  Building wheel for docxcompose (setup.py) ... \u001b[?25l\u001b[?25hdone\n",
            "  Created wheel for docxcompose: filename=docxcompose-1.4.0-py3-none-any.whl size=23268 sha256=a57eaed177c58f73480efc03a173870cdbe6c0e70d003fd6f6d88647b70f8202\n",
            "  Stored in directory: /root/.cache/pip/wheels/28/0e/78/2dc28f2d5b192d1a3ec237ec60e9d65654a078dfe07ce3a714\n",
            "  Building wheel for python-docx (setup.py) ... \u001b[?25l\u001b[?25hdone\n",
            "  Created wheel for python-docx: filename=python_docx-0.8.11-py3-none-any.whl size=184491 sha256=fea518adba6c57df388b9b4c4b1d57b2dd8d07d74847d8a9d6ca7fb0ea96b566\n",
            "  Stored in directory: /root/.cache/pip/wheels/80/27/06/837436d4c3bd989b957a91679966f207bfd71d358d63a8194d\n",
            "Successfully built docxcompose python-docx\n",
            "Installing collected packages: python-docx, docxcompose\n",
            "Successfully installed docxcompose-1.4.0 python-docx-0.8.11\n"
          ]
        }
      ]
    },
    {
      "cell_type": "code",
      "source": [
        "!pip install python-docx\n",
        "!pip install num2words"
      ],
      "metadata": {
        "colab": {
          "base_uri": "https://localhost:8080/"
        },
        "id": "IEB_cTUrTl4i",
        "outputId": "5bf28549-cf39-4942-9609-a0c566e2c11d"
      },
      "execution_count": 3,
      "outputs": [
        {
          "output_type": "stream",
          "name": "stdout",
          "text": [
            "Looking in indexes: https://pypi.org/simple, https://us-python.pkg.dev/colab-wheels/public/simple/\n",
            "Requirement already satisfied: python-docx in /usr/local/lib/python3.10/dist-packages (0.8.11)\n",
            "Requirement already satisfied: lxml>=2.3.2 in /usr/local/lib/python3.10/dist-packages (from python-docx) (4.9.2)\n",
            "Looking in indexes: https://pypi.org/simple, https://us-python.pkg.dev/colab-wheels/public/simple/\n",
            "Collecting num2words\n",
            "  Downloading num2words-0.5.12-py3-none-any.whl (125 kB)\n",
            "\u001b[2K     \u001b[90m━━━━━━━━━━━━━━━━━━━━━━━━━━━━━━━━━━━━━━━\u001b[0m \u001b[32m125.2/125.2 kB\u001b[0m \u001b[31m3.8 MB/s\u001b[0m eta \u001b[36m0:00:00\u001b[0m\n",
            "\u001b[?25hCollecting docopt>=0.6.2 (from num2words)\n",
            "  Downloading docopt-0.6.2.tar.gz (25 kB)\n",
            "  Preparing metadata (setup.py) ... \u001b[?25l\u001b[?25hdone\n",
            "Building wheels for collected packages: docopt\n",
            "  Building wheel for docopt (setup.py) ... \u001b[?25l\u001b[?25hdone\n",
            "  Created wheel for docopt: filename=docopt-0.6.2-py2.py3-none-any.whl size=13707 sha256=45ecc4616e87db607e027095e82b659544851ca9207fff06d1b6e215382ed344\n",
            "  Stored in directory: /root/.cache/pip/wheels/fc/ab/d4/5da2067ac95b36618c629a5f93f809425700506f72c9732fac\n",
            "Successfully built docopt\n",
            "Installing collected packages: docopt, num2words\n",
            "Successfully installed docopt-0.6.2 num2words-0.5.12\n",
            "Looking in indexes: https://pypi.org/simple, https://us-python.pkg.dev/colab-wheels/public/simple/\n",
            "Collecting pint\n",
            "  Downloading Pint-0.21-py3-none-any.whl (286 kB)\n",
            "\u001b[2K     \u001b[90m━━━━━━━━━━━━━━━━━━━━━━━━━━━━━━━━━━━━━━━\u001b[0m \u001b[32m286.2/286.2 kB\u001b[0m \u001b[31m6.4 MB/s\u001b[0m eta \u001b[36m0:00:00\u001b[0m\n",
            "\u001b[?25hInstalling collected packages: pint\n",
            "Successfully installed pint-0.21\n"
          ]
        }
      ]
    },
    {
      "cell_type": "code",
      "source": [
        "import docx\n",
        "import re\n",
        "from num2words import num2words"
      ],
      "metadata": {
        "id": "P1QXXw2CRLah"
      },
      "execution_count": 4,
      "outputs": []
    },
    {
      "cell_type": "code",
      "source": [
        "def convert_units_to_full_form(text):\n",
        "    units_mapping = {\n",
        "        'cm': 'centimeters',\n",
        "        'm': 'meters',\n",
        "        'km': 'kilometers',\n",
        "        'mm': 'millimeters',\n",
        "        'ft': 'feet',\n",
        "        'mi': 'miles',\n",
        "        'yd': 'yards',\n",
        "        'g': 'grams',\n",
        "        'kg': 'kilograms',\n",
        "        'mg': 'milligrams',\n",
        "        'lb': 'pounds',\n",
        "        'oz': 'ounces',\n",
        "        'L': 'liters',\n",
        "        'mL': 'milliliters',\n",
        "        'gal': 'gallons',\n",
        "        'oz': 'ounces',\n",
        "        # Add more unit conversions as needed\n",
        "    }\n",
        "    \n",
        "    # Split the text into words\n",
        "    words = text.split()\n",
        "    \n",
        "    # Iterate over the words and replace units with their full forms\n",
        "    converted_text = []\n",
        "    for word in words:\n",
        "        if word.lower() in units_mapping:\n",
        "            converted_text.append(units_mapping[word.lower()])\n",
        "        else:\n",
        "            converted_text.append(word)\n",
        "    \n",
        "    # Join the converted words back into a string\n",
        "    converted_text = ' '.join(converted_text)\n",
        "    \n",
        "    return converted_text"
      ],
      "metadata": {
        "id": "0F9-2sJ-em0e"
      },
      "execution_count": 64,
      "outputs": []
    },
    {
      "cell_type": "code",
      "source": [
        "def translate_symbols_equations(text):\n",
        "    translations = {\n",
        "        '+': 'plus',\n",
        "        '-': 'minus',\n",
        "        '*': 'multiplied by',\n",
        "        '/': 'divided by',\n",
        "        '=': 'equals',\n",
        "        '_': 'divided by',\n",
        "        'λ':'lambda',\n",
        "        '^': 'power',\n",
        "        '∫': 'integration',\n",
        "        'd/dx': 'differentiation'\n",
        "        \n",
        "    }\n",
        "    for i in text:\n",
        "      if i.isnumeric():\n",
        "        text = text.replace(i,num2words(int(i), lang ='eng'))\n",
        "    text = convert_units_to_full_form(text)\n",
        "    for symbol, word in translations.items():\n",
        "        text = text.replace(symbol, word)\n",
        "    equation_pattern = r'\\b(\\d+)\\s*([-+*/])\\s*(\\d+)\\b'\n",
        "    text = re.sub(equation_pattern, r'\\1 \\2 \\3', text)\n",
        "    \n",
        "    return text"
      ],
      "metadata": {
        "id": "7YFCfW6qRQtn"
      },
      "execution_count": 76,
      "outputs": []
    },
    {
      "cell_type": "code",
      "source": [
        "def convert_doc_to_descriptive_form(file_path):\n",
        "    doc = docx.Document(file_path)\n",
        "    converted_content = []\n",
        "    para = '\\n'.join([paragraph.text for paragraph in doc.paragraphs])\n",
        "    \n",
        "    converted_text = translate_symbols_equations(para)\n",
        "    converted_content.append(converted_text)\n",
        "    \n",
        "    return '\\n'.join(converted_content)"
      ],
      "metadata": {
        "id": "0hHZB3prRYMp"
      },
      "execution_count": 77,
      "outputs": []
    },
    {
      "cell_type": "code",
      "source": [
        "def extract_text_from_text_file(file_path, encodings=('utf-8', 'latin-1')):\n",
        "    with open(file_path, 'rb') as file:\n",
        "        data = file.read()\n",
        "        for encoding in encodings:\n",
        "            try:\n",
        "                extracted_text = data.decode(encoding)\n",
        "                return extracted_text\n",
        "            except UnicodeDecodeError:\n",
        "                continue\n",
        "    raise ValueError(\"Unable to decode the file using the specified encodings\")\n",
        "\n",
        "# Provide the path to the text file\n",
        "text_file_path = 'file6.txt'\n",
        "\n",
        "# Provide the encodings to try\n",
        "encodings_to_try = ('utf-8', 'latin-1', 'cp1252')\n",
        "\n",
        "# Extract text from the text file\n",
        "extracted_text = extract_text_from_text_file(text_file_path, encodings_to_try)\n",
        "\n",
        "# Print the extracted text\n",
        "print(\"The extracted text is\")\n",
        "print(extracted_text)\n",
        "converted_content = []\n",
        "converted_text = translate_symbols_equations(extracted_text)\n",
        "print(\"The converted text is\")\n",
        "print(converted_text)"
      ],
      "metadata": {
        "colab": {
          "base_uri": "https://localhost:8080/"
        },
        "id": "pHCiqidg7XI6",
        "outputId": "60857ea1-682e-4b93-8bc0-af2b80a99505"
      },
      "execution_count": 79,
      "outputs": [
        {
          "output_type": "stream",
          "name": "stdout",
          "text": [
            "The extracted text is\n",
            "﻿Subject: Mathematics\r\n",
            "Chapter: Indefinite Integrals\r\n",
            "Topic: Indefinite Integrals\r\n",
            "Sub-Topic: Integral of product of integral power of tan x and integral power of sec x\r\n",
            "Question:\r\n",
            "Column - If(x)\rColumn - II∫f(x)dx\ra.\r1a2+b2−a2−b2cos⁡x\rb.\r1a2sin2⁡x+b2cos2⁡x\rc.\r1acos⁡x+bsin⁡x\rd.\r1a2−b2cos2⁡x\r\r\n",
            "\r\n",
            "Options :\r\n",
            "1) \r\n",
            "A-s; B-r; C-p; D-q\r\n",
            "2) \r\n",
            "A-p; B-r; C-s; D-q\r\n",
            "3) \r\n",
            "A-p; B-q; C-r; D-s\r\n",
            "4) \r\n",
            "A-r; B-p; C-s; D-q\r\n",
            "HINT: \r\n",
            "\r\n",
            "Ans: \r\n",
            "1\r\n",
            "Solution: \r\n",
            "(1)\r\n",
            " \r\n",
            "I=∫1/((a^2+b^2 )-(a^2-b^2 )cos⁡x) dxputtan x/2=t⇒dx=2dt/(1+t^2 ),cosx=(1-t^2)/(1+t^2 )\r\n",
            "=2∫dt/((a^2+b^2 )(1+t^2 )-(a^2-b^2 )(1-t^2 ) )=2∫dt/((a^2 )(2t^2 )+(b^2 )(2) )=∫dt/((at)^2+b^2 )=1/ab tan^(-1)  at/b=1/ab tan^(-1)⁡(a/b tan⁡x/2)+c\r\n",
            "(2)\r\n",
            " \r\n",
            "∫1/(a^2 sin^2⁡x+b^2 cos^2⁡x) dx=∫sec^2⁡x/(b^2+a^2 tan^2⁡x) dx=∫dt/(b^2+a^2 t^2 ) puttanx=t=1/ab tan^(-1)  at/b=1/ab tan^(-1)⁡(a/b tan⁡x)+c\r\n",
            "(3)\r\n",
            " \r\n",
            "I=∫1/(acos⁡x+bsin⁡x) dx=1/√(a^2+b^2 )∫1/(a/√(a^2+b^2 ) cos⁡x+b/√(a^2+b^2 ) sin⁡x) dx=1/√(a^2+b^2 )∫1/(sinθcos⁡x+cosθsin⁡x) dxwhere a/√(a^2+b^2 )=sinθ,b/√(a^2+b^2 )=cosθI=1/√(a^2+b^2 )∫cosec⁡(θ+x)dx=1/√(a^2+b^2 ) log|tan ((θ+x))/2|=1/√(a^2+b^2 ) log⁡|tan⁡1/2 (x+tan^(-1)⁡a/b)|+c\r\n",
            "(4)\r\n",
            " \r\n",
            "∫sec^2⁡x/(a^2 (1+tan^2⁡x)-b^2 ) dx\"put\" tan⁡x=t=∫dt/(a^2 (1+t^2 )-b^2 )=∫dt/(a^2 (t^2 )+a^2-b^2 )=1/(a^2 sin⁡α) tan^(-1)⁡(tan⁡x/sin⁡α )+c,α=cos^(-1)⁡b/a\r\n",
            "\r\n",
            "\r\n",
            "\n",
            "The converted text is\n",
            "﻿Subject: Mathematics Chapter: Indefinite Integrals Topic: Indefinite Integrals SubminusTopic: Integral of product of integral power of tan x and integral power of sec x Question: Column minus If(x) Column minus IIintegrationf(x)dx a. oneatwoplusbtwo−atwo−btwocos⁡x b. oneatwosintwo⁡xplusbtwocostwo⁡x c. oneacos⁡xplusbsin⁡x d. oneatwo−btwocostwo⁡x Options : one) Aminuss; Bminusr; Cminusp; Dminusq two) Aminusp; Bminusr; Cminuss; Dminusq three) Aminusp; Bminusq; Cminusr; Dminuss four) Aminusr; Bminusp; Cminuss; Dminusq HINT: Ans: one Solution: (one) Iequalsintegrationonedivided by((apowertwoplusbpowertwo )minus(apowertwominusbpowertwo )cos⁡x) dxputtan xdivided bytwoequalst⇒dxequalstwodtdivided by(oneplustpowertwo ),cosxequals(oneminustpowertwo)divided by(oneplustpowertwo ) equalstwointegrationdtdivided by((apowertwoplusbpowertwo )(oneplustpowertwo )minus(apowertwominusbpowertwo )(oneminustpowertwo ) )equalstwointegrationdtdivided by((apowertwo )(twotpowertwo )plus(bpowertwo )(two) )equalsintegrationdtdivided by((at)powertwoplusbpowertwo )equalsonedivided byab tanpower(minusone) atdivided bybequalsonedivided byab tanpower(minusone)⁡(adivided byb tan⁡xdivided bytwo)plusc (two) integrationonedivided by(apowertwo sinpowertwo⁡xplusbpowertwo cospowertwo⁡x) dxequalsintegrationsecpowertwo⁡xdivided by(bpowertwoplusapowertwo tanpowertwo⁡x) dxequalsintegrationdtdivided by(bpowertwoplusapowertwo tpowertwo ) puttanxequalstequalsonedivided byab tanpower(minusone) atdivided bybequalsonedivided byab tanpower(minusone)⁡(adivided byb tan⁡x)plusc (three) Iequalsintegrationonedivided by(acos⁡xplusbsin⁡x) dxequalsonedivided by√(apowertwoplusbpowertwo )integrationonedivided by(adivided by√(apowertwoplusbpowertwo ) cos⁡xplusbdivided by√(apowertwoplusbpowertwo ) sin⁡x) dxequalsonedivided by√(apowertwoplusbpowertwo )integrationonedivided by(sinθcos⁡xpluscosθsin⁡x) dxwhere adivided by√(apowertwoplusbpowertwo )equalssinθ,bdivided by√(apowertwoplusbpowertwo )equalscosθIequalsonedivided by√(apowertwoplusbpowertwo )integrationcosec⁡(θplusx)dxequalsonedivided by√(apowertwoplusbpowertwo ) log|tan ((θplusx))divided bytwo|equalsonedivided by√(apowertwoplusbpowertwo ) log⁡|tan⁡onedivided bytwo (xplustanpower(minusone)⁡adivided byb)|plusc (four) integrationsecpowertwo⁡xdivided by(apowertwo (oneplustanpowertwo⁡x)minusbpowertwo ) dx\"put\" tan⁡xequalstequalsintegrationdtdivided by(apowertwo (oneplustpowertwo )minusbpowertwo )equalsintegrationdtdivided by(apowertwo (tpowertwo )plusapowertwominusbpowertwo )equalsonedivided by(apowertwo sin⁡α) tanpower(minusone)⁡(tan⁡xdivided bysin⁡α )plusc,αequalscospower(minusone)⁡bdivided bya\n"
          ]
        }
      ]
    }
  ]
}